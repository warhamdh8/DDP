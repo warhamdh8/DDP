{
  "nbformat": 4,
  "nbformat_minor": 0,
  "metadata": {
    "colab": {
      "provenance": [],
      "authorship_tag": "ABX9TyMnuBt5XkM443kPB3j1piHF",
      "include_colab_link": true
    },
    "kernelspec": {
      "name": "python3",
      "display_name": "Python 3"
    },
    "language_info": {
      "name": "python"
    }
  },
  "cells": [
    {
      "cell_type": "markdown",
      "metadata": {
        "id": "view-in-github",
        "colab_type": "text"
      },
      "source": [
        "<a href=\"https://colab.research.google.com/github/warhamdh8/DDP/blob/main/Praktikum_6.ipynb\" target=\"_parent\"><img src=\"https://colab.research.google.com/assets/colab-badge.svg\" alt=\"Open In Colab\"/></a>"
      ]
    },
    {
      "cell_type": "code",
      "execution_count": null,
      "metadata": {
        "colab": {
          "base_uri": "https://localhost:8080/"
        },
        "id": "IjDioCrC5D6s",
        "outputId": "466586b7-9542-446b-a3f8-52a0b0c0febb"
      },
      "outputs": [
        {
          "output_type": "stream",
          "name": "stdout",
          "text": [
            "951\n",
            "651\n",
            "69\n",
            "319\n",
            "601\n",
            "485\n",
            "507\n",
            "725\n",
            "547\n",
            "615\n",
            "83\n",
            "165\n",
            "141\n",
            "501\n",
            "263\n",
            "617\n",
            "865\n",
            "575\n",
            "219\n",
            "105\n",
            "941\n",
            "47\n",
            "907\n",
            "375\n",
            "823\n",
            "597\n",
            "615\n",
            "953\n",
            "345\n",
            "399\n",
            "219\n",
            "237\n",
            "949\n",
            "687\n",
            "217\n",
            "815\n",
            "67\n",
            "767\n"
          ]
        }
      ],
      "source": [
        "# Print semua bilangan ganjil dari list berikut,\n",
        "# hentikan perulangan ketika sudah melewati bilangan 553.\n",
        "# pakai perulangan while.\n",
        "numbers = [\n",
        "951, 402, 984, 651, 360, 69, 408, 319, 601, 485, 980, 507, 725,\n",
        "547, 544, 615, 83, 165, 141, 501, 263, 617, 865, 575, 219, 390,\n",
        "984, 592, 236, 105, 942, 941, 386, 462, 47, 418, 907, 344, 236,\n",
        "375, 823, 566, 597, 978, 328, 615, 953, 345, 399, 162, 758, 219,\n",
        "918, 237, 412, 566, 826, 248, 866, 950, 626, 949, 687, 217, 815,\n",
        "67, 104, 58, 512, 24, 892, 894, 767, 553\n",
        "]\n",
        "\n",
        "index = 0\n",
        "while index <= len(numbers):\n",
        "  if numbers[index] == 553:\n",
        "    break\n",
        "  if numbers[index] %2 == 1:\n",
        "   print(numbers[index])\n",
        "  index += 1"
      ]
    },
    {
      "cell_type": "code",
      "source": [
        "# Buat lah output dari menggunakan bahasa pemrograman python dengan :\n",
        "# 1 + 3 + 5 + 7 + 9 + 11 + 15 + 17 + 19 = ...\n",
        "\n",
        "\n",
        "jumlah = 0\n",
        "string = '' #untuk membaca tanda +\n",
        "\n",
        "bilangan = 1\n",
        "while bilangan <= 19:\n",
        "  jumlah += bilangan\n",
        "  string += str(bilangan)\n",
        "  if bilangan < 19:\n",
        "     string += '+'\n",
        "  bilangan += 2\n",
        "print(string, '-',jumlah)"
      ],
      "metadata": {
        "colab": {
          "base_uri": "https://localhost:8080/"
        },
        "id": "hOCyxt7l_7Z7",
        "outputId": "3c6b6da9-a5b5-4eea-bd0a-c7e068a9c77c"
      },
      "execution_count": null,
      "outputs": [
        {
          "output_type": "stream",
          "name": "stdout",
          "text": [
            "1+3+5+7+9+11+13+15+17+19 - 100\n"
          ]
        }
      ]
    },
    {
      "cell_type": "code",
      "source": [
        "# Buat program untuk minta input jumlah baris dan buat\n",
        "# rangkaian berita ini\n",
        "# *\n",
        "# **\n",
        "# ***\n",
        "# ****\n",
        "\n",
        "baris = int(input('masukan angka: '))\n",
        "for i in range(1, baris + 1):\n",
        "   print('*' * i )"
      ],
      "metadata": {
        "colab": {
          "base_uri": "https://localhost:8080/"
        },
        "id": "2pTdHIXwEYEi",
        "outputId": "1c85526b-199d-4245-8562-44a7709c09bc"
      },
      "execution_count": null,
      "outputs": [
        {
          "output_type": "stream",
          "name": "stdout",
          "text": [
            "masukan angka: 4\n",
            "*\n",
            "**\n",
            "***\n",
            "****\n"
          ]
        }
      ]
    }
  ]
}