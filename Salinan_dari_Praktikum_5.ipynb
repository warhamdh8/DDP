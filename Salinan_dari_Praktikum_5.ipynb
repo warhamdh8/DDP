{
  "nbformat": 4,
  "nbformat_minor": 0,
  "metadata": {
    "colab": {
      "provenance": [],
      "authorship_tag": "ABX9TyNtRdiel12biESkzOVChux7",
      "include_colab_link": true
    },
    "kernelspec": {
      "name": "python3",
      "display_name": "Python 3"
    },
    "language_info": {
      "name": "python"
    }
  },
  "cells": [
    {
      "cell_type": "markdown",
      "metadata": {
        "id": "view-in-github",
        "colab_type": "text"
      },
      "source": [
        "<a href=\"https://colab.research.google.com/github/warhamdh8/DDP/blob/main/Salinan_dari_Praktikum_5.ipynb\" target=\"_parent\"><img src=\"https://colab.research.google.com/assets/colab-badge.svg\" alt=\"Open In Colab\"/></a>"
      ]
    },
    {
      "cell_type": "code",
      "execution_count": null,
      "metadata": {
        "colab": {
          "base_uri": "https://localhost:8080/"
        },
        "id": "mX_0ID_x1W6h",
        "outputId": "7459c4a3-4303-4725-eec4-c39da0211c2f"
      },
      "outputs": [
        {
          "output_type": "stream",
          "name": "stdout",
          "text": [
            "['Beat Ember', 'motor', 200, 2]\n",
            "['Beat Ember', 'motor', 200, 2, [500], ['metic']]\n",
            "['Beat Ember', 'motor', 'Honda', 200, 2, [500], ['metic']]\n"
          ]
        }
      ],
      "source": [
        "namaKendaraan = \"Beat Ember\"\n",
        "jenisKendaraan = \"motor\"\n",
        "ccKendaraan = 200\n",
        "warnakendaraan = \"Biru\"\n",
        "rodaKendaraan = 2\n",
        "\n",
        "data_kendaraan = [ namaKendaraan, jenisKendaraan, ccKendaraan, rodaKendaraan]\n",
        "print(data_kendaraan)\n",
        "\n",
        "hargaKendaraan = 500\n",
        "tipeKendaraan = \"metic\"\n",
        "\n",
        "data_kendaraan.append([hargaKendaraan])\n",
        "data_kendaraan.append([tipeKendaraan])\n",
        "print(data_kendaraan)\n",
        "\n",
        "merkKendaraan = \"Honda\"\n",
        "data_kendaraan.insert(2, merkKendaraan)\n",
        "print(data_kendaraan)"
      ]
    },
    {
      "cell_type": "code",
      "source": [
        "pilihan = int(input(\"\"\"\n",
        "silahkan pilih menu yang di inginkan\n",
        "=====================================\n",
        "1. Luas Persegi\n",
        "2. Luas Lingkaran\n",
        "3. Luas Segitiga\n",
        "=====================================\n",
        "Kirimkan hanya angka saja,\n",
        "jawaban = \"\"\"))\n",
        "\n",
        "match pilihan:\n",
        "     case 1:\n",
        "       print(\"anda memilih luas persegi\")\n",
        "       sisi = int(input(\"sisi = \"))\n",
        "       luas = sisi * sisi\n",
        "\n",
        "       print(f\"luas persegi dengan sisi {sisi} adalah {luas}\")\n",
        "       #Luas persegi\n",
        "     case 2:\n",
        "       #Luas lingkaran\n",
        "       #phi * jarijari**2\n",
        "       print(\"anda memilih luas lingkaran\")\n",
        "       jarijari = int(input(\"jarijari = \"))\n",
        "       sisi = 3.14 * jarijari**2\n",
        "\n",
        "       print(f\"luas lingkaran dengan jarijari {jarijari} adalah {sisi}\")\n",
        "     case 3:\n",
        "       # Luas segitiga\n",
        "       # (alas * tinggi)/2\n",
        "       print(\"anda memilih luas segitiga\")\n",
        "       atas = int(input(\"atas = \"))\n",
        "       tinggi = 13 * atas\n",
        "\n",
        "       print(f\"luas segitiga dengan atas {atas} adalah {tinggi}\")\n",
        "     case _:\n",
        "       print(\"maaf jawaban anda salah\")"
      ],
      "metadata": {
        "colab": {
          "base_uri": "https://localhost:8080/"
        },
        "id": "N48sWwYr9NoD",
        "outputId": "10a1926e-9116-426b-96cf-ef8ceabd190b"
      },
      "execution_count": null,
      "outputs": [
        {
          "output_type": "stream",
          "name": "stdout",
          "text": [
            " \n",
            "silahkan pilih menu yang di inginkan\n",
            "=====================================\n",
            "1. Luas Persegi\n",
            "2. Luas Lingkaran \n",
            "3. Luas Segitiga\n",
            "=====================================\n",
            "Kirimkan hanya angka saja,\n",
            "jawaban = 12\n",
            "maaf jawaban anda salah\n"
          ]
        }
      ]
    }
  ]
}